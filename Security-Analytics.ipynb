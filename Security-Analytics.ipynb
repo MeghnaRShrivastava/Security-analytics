{
 "cells": [
  {
   "cell_type": "markdown",
   "metadata": {},
   "source": [
    "#### Meghan Shrivastava(meghna3), Mohit Jain(mohitj2), Tafseer Khan(tafseer2)"
   ]
  },
  {
   "cell_type": "markdown",
   "metadata": {},
   "source": [
    "# Security Analytics - Identify the Attacks"
   ]
  },
  {
   "cell_type": "code",
   "execution_count": 1,
   "metadata": {},
   "outputs": [
    {
     "name": "stderr",
     "output_type": "stream",
     "text": [
      "C:\\Anaconda3\\lib\\site-packages\\statsmodels\\tools\\_testing.py:19: FutureWarning: pandas.util.testing is deprecated. Use the functions in the public API at pandas.testing instead.\n",
      "  import pandas.util.testing as tm\n"
     ]
    }
   ],
   "source": [
    "import pandas as pd\n",
    "import numpy as np\n",
    "\n",
    "import pyshark\n",
    "from pandas.io.json import json_normalize\n",
    "import json\n",
    "from itertools import islice\n",
    "import matplotlib.pyplot as plt\n",
    "import seaborn as sns\n",
    "\n",
    "from pgmpy.factors.discrete import DiscreteFactor\n",
    "from pgmpy.models import FactorGraph\n",
    "from pgmpy.inference import BeliefPropagation\n",
    "\n",
    "from collections import Counter"
   ]
  },
  {
   "cell_type": "markdown",
   "metadata": {},
   "source": [
    "# Task 2 "
   ]
  },
  {
   "cell_type": "code",
   "execution_count": 2,
   "metadata": {
    "collapsed": true
   },
   "outputs": [],
   "source": [
    "G = FactorGraph() ## Create FactorGraph object\n",
    "###############################\n",
    "#   TODO: Define factor functions\n",
    "###############################\n",
    "f_1 = DiscreteFactor(['S1'],[2],[0.85, 0.15]) #This is the prior 'f'\n",
    "f_2 = DiscreteFactor(['S1','E1'], [2,2], [0.1, 0.2, 0.0, 0.5])\n",
    "\n",
    "###############################\n",
    "#   TODO: Add random variables\n",
    "#         and factor functions \n",
    "###############################\n",
    "G.add_nodes_from(['S1','E1'])  ## Add random variables \n",
    "G.add_factors(f_1, f_2)     ## Add factor functions\n",
    "\n",
    "###############################\n",
    "#   TODO: Add the edges for random \n",
    "#   variables and factor functions\n",
    "###############################\n",
    "G.add_edges_from([('S1',f_1), ('S1',f_2), ('E1',f_2)])"
   ]
  },
  {
   "cell_type": "markdown",
   "metadata": {},
   "source": [
    "### Task 2.2 & 2.3"
   ]
  },
  {
   "cell_type": "code",
   "execution_count": 3,
   "metadata": {},
   "outputs": [
    {
     "name": "stdout",
     "output_type": "stream",
     "text": [
      "+-------+-----------+\n",
      "| S1    |   phi(S1) |\n",
      "+=======+===========+\n",
      "| S1(0) |    0.2550 |\n",
      "+-------+-----------+\n",
      "| S1(1) |    0.0750 |\n",
      "+-------+-----------+\n"
     ]
    }
   ],
   "source": [
    "bp = BeliefPropagation(G)\n",
    "###############################\n",
    "#   TODO: Compute the marginal probability\n",
    "###############################\n",
    "margin = bp.query(variables = ['S1'], show_progress = False)\n",
    "print(margin)"
   ]
  },
  {
   "cell_type": "markdown",
   "metadata": {},
   "source": [
    "Since S1 represents no attack ($S_1$ = 0), it maximizes P($S_1$)"
   ]
  },
  {
   "cell_type": "markdown",
   "metadata": {},
   "source": [
    "### Task 2.4 & 2.5"
   ]
  },
  {
   "cell_type": "code",
   "execution_count": 4,
   "metadata": {},
   "outputs": [
    {
     "name": "stdout",
     "output_type": "stream",
     "text": [
      "+-------+-----------+\n",
      "| S1    |   phi(S1) |\n",
      "+=======+===========+\n",
      "| S1(0) |    0.1700 |\n",
      "+-------+-----------+\n",
      "| S1(1) |    0.0750 |\n",
      "+-------+-----------+\n"
     ]
    }
   ],
   "source": [
    "margin = bp.query(variables = ['S1'], evidence = {'E1':1}, show_progress = False)\n",
    "print(margin)"
   ]
  },
  {
   "cell_type": "markdown",
   "metadata": {},
   "source": [
    "$S_1$ = 0 (no attack) is the most probable."
   ]
  },
  {
   "cell_type": "markdown",
   "metadata": {},
   "source": [
    "### Task 2.6"
   ]
  },
  {
   "cell_type": "markdown",
   "metadata": {},
   "source": [
    "<img src=\"files/task_2.3.jpeg\">"
   ]
  },
  {
   "cell_type": "markdown",
   "metadata": {},
   "source": [
    "# Task 3"
   ]
  },
  {
   "cell_type": "code",
   "execution_count": 5,
   "metadata": {
    "collapsed": true
   },
   "outputs": [],
   "source": [
    "ATTACK_EVENTS_MAP = {\n",
    "    'Scan':1,\n",
    "    'Login':2,\n",
    "    'Sensitive_URI':3,\n",
    "    'New_Kernel_Module':4,\n",
    "    'DNS_Tunneling':5\n",
    "}\n",
    "ATTACK_STATES_MAP = {\n",
    "    'benign': 1,\n",
    "    'discovery': 2,\n",
    "    'access': 3,\n",
    "    'lateral_movement': 4,\n",
    "    'privilege_escalation': 5,\n",
    "    'persistence': 6,\n",
    "    'defense_evasion': 7,\n",
    "    'collection': 8,\n",
    "    'exfiltration': 9,\n",
    "    'command_control': 10,\n",
    "    'execution': 11\n",
    "}"
   ]
  },
  {
   "cell_type": "markdown",
   "metadata": {},
   "source": [
    "### Task 3.0 "
   ]
  },
  {
   "cell_type": "code",
   "execution_count": 6,
   "metadata": {},
   "outputs": [],
   "source": [
    "event_review = open('event_review.txt', 'r') \n",
    "Lines = event_review.readlines()\n",
    "df = pd.DataFrame(index = range(len(Lines)), columns = ['Event', 'Latent Attack State'])\n",
    "i = 0\n",
    "def fact_func(string):\n",
    "    x = df.loc[i,'Latent Attack State'] = ((string.split(' ')[-1]).split('\\n')[0]).split(']')[-1]\n",
    "    y = df.loc[i,'Event'] = (string.split(' ')[0]).split(']')[1]\n",
    "    return x,y\n",
    "for string in Lines:\n",
    "    fact_func(string)\n",
    "    if string.split(' ')[-1] == '\\n':\n",
    "        df.loc[i,'Latent Attack State'] = 'exfiltration'\n",
    "    i=i+1\n",
    "\n",
    "df = df.replace({\"Event\":ATTACK_EVENTS_MAP, \"Latent Attack State\":ATTACK_STATES_MAP})\n",
    "\n",
    "\n"
   ]
  },
  {
   "cell_type": "code",
   "execution_count": 7,
   "metadata": {
    "collapsed": true
   },
   "outputs": [],
   "source": [
    "def forfunc():\n",
    "    for i in n_df['Latent Attack State'].unique():\n",
    "        templist[i-1] = n_df['Latent Attack State'].value_counts()[i] / len(n_df)\n",
    "    return templist"
   ]
  },
  {
   "cell_type": "code",
   "execution_count": 8,
   "metadata": {},
   "outputs": [
    {
     "data": {
      "text/plain": [
       "{3: [0.5533333333333333, 0, 0, 0, 0.44666666666666666, 0, 0, 0, 0, 0, 0],\n",
       " 1: [0.936, 0.064, 0, 0, 0, 0, 0, 0, 0, 0, 0],\n",
       " 4: [0.875, 0, 0, 0, 0, 0.125, 0, 0, 0, 0, 0],\n",
       " 5: [0.02, 0, 0, 0, 0, 0, 0, 0, 0.98, 0, 0],\n",
       " 2: [1.0, 0, 0, 0, 0, 0, 0, 0, 0, 0, 0]}"
      ]
     },
     "execution_count": 8,
     "metadata": {},
     "output_type": "execute_result"
    }
   ],
   "source": [
    "def window(seq, n=3):                 \n",
    "    it = iter(seq)\n",
    "    result = tuple(islice(it, n))\n",
    "    if len(result) == n:\n",
    "        yield result\n",
    "    for elem in it:\n",
    "        result = result[1:] + (elem,)\n",
    "        yield result\n",
    "        \n",
    "df_dict = {}\n",
    "for event_ in df['Event'].unique():\n",
    "    templist = 11*[0]\n",
    "    n_df = df[df['Event'] == event_]\n",
    "    forfunc()\n",
    "    df_dict[event_] = forfunc()\n",
    "df_dict       "
   ]
  },
  {
   "cell_type": "code",
   "execution_count": 9,
   "metadata": {},
   "outputs": [
    {
     "data": {
      "text/plain": [
       "[[0.936, 0.064, 0, 0, 0, 0, 0, 0, 0, 0, 0],\n",
       " [1.0, 0, 0, 0, 0, 0, 0, 0, 0, 0, 0],\n",
       " [0.5533333333333333, 0, 0, 0, 0.44666666666666666, 0, 0, 0, 0, 0, 0],\n",
       " [0.5533333333333333, 0, 0, 0, 0.44666666666666666, 0, 0, 0, 0, 0, 0],\n",
       " [0.5533333333333333, 0, 0, 0, 0.44666666666666666, 0, 0, 0, 0, 0, 0],\n",
       " [0.875, 0, 0, 0, 0, 0.125, 0, 0, 0, 0, 0],\n",
       " [0.02, 0, 0, 0, 0, 0, 0, 0, 0.98, 0, 0],\n",
       " [0.02, 0, 0, 0, 0, 0, 0, 0, 0.98, 0, 0],\n",
       " [0.02, 0, 0, 0, 0, 0, 0, 0, 0.98, 0, 0]]"
      ]
     },
     "execution_count": 9,
     "metadata": {},
     "output_type": "execute_result"
    }
   ],
   "source": [
    "events = [1,2,3,3,3,4,5,5,5] #e1 to e9 as given in the problem\n",
    "f = [] #A list of lists, each row is the fi for ei\n",
    "for event in events:\n",
    "    f.append(df_dict[event])\n",
    "f"
   ]
  },
  {
   "cell_type": "markdown",
   "metadata": {},
   "source": [
    "f1 to f9 "
   ]
  },
  {
   "cell_type": "markdown",
   "metadata": {},
   "source": [
    "### Task 3.1"
   ]
  },
  {
   "cell_type": "code",
   "execution_count": 10,
   "metadata": {
    "collapsed": true
   },
   "outputs": [],
   "source": [
    "c_prob, r_prob = [], []\n",
    "c_count, r_count = Counter(), Counter()\n",
    "def prob():\n",
    "    c_prob.append(c)\n",
    "    r_prob.append(r)\n",
    "    "
   ]
  },
  {
   "cell_type": "code",
   "execution_count": 11,
   "metadata": {
    "collapsed": true
   },
   "outputs": [],
   "source": [
    "def strip():\n",
    "    l = line.strip().split(' ')\n",
    "    return l\n",
    "attack_sequences = open('attack_sequences.txt', 'r') \n",
    "Lines = attack_sequences.readlines() \n",
    "for line in Lines:\n",
    "    l = strip()\n",
    "    for sequence in window(l,3):\n",
    "        x = len(set(sequence)) \n",
    "        if  x== 1:\n",
    "            r_count[sequence] +=1\n",
    "        else:\n",
    "            c_count[sequence] +=1\n",
    "  "
   ]
  },
  {
   "cell_type": "code",
   "execution_count": 12,
   "metadata": {
    "collapsed": true
   },
   "outputs": [],
   "source": [
    "c_sequence = c_count.most_common(1)[0][0]\n",
    "r_sequence = r_count.most_common(1)[0][0]\n",
    "\n",
    "for line in Lines:\n",
    "    l = strip()\n",
    "    c, r = False, False\n",
    "    for sequence in window(l,3):\n",
    "        if sequence == c_sequence:\n",
    "            c = True\n",
    "        if sequence == r_sequence:\n",
    "            r = True\n",
    "    prob()\n",
    "    \n",
    "\n",
    "\n",
    "# len_divide()\n",
    "c_factor_function, r_factor_function = 11*[0], 11*[0]\n",
    "cp = sum(c_prob)/len(c_prob)\n",
    "rp = sum(r_prob)/len(r_prob)  \n",
    "c_factor_function[5] = cp\n",
    "r_factor_function[4] = rp\n"
   ]
  },
  {
   "cell_type": "markdown",
   "metadata": {},
   "source": [
    "### Task 3.2  You will have to submit the graph you draw through Compass"
   ]
  },
  {
   "cell_type": "markdown",
   "metadata": {},
   "source": [
    "CP1.5"
   ]
  },
  {
   "cell_type": "markdown",
   "metadata": {},
   "source": [
    "### Task 3.3"
   ]
  },
  {
   "cell_type": "code",
   "execution_count": 13,
   "metadata": {
    "collapsed": true,
    "scrolled": false
   },
   "outputs": [],
   "source": [
    "G = FactorGraph() ## Create FactorGraph object\n",
    "###############################\n",
    "#   TODO: Define factor functions\n",
    "###############################\n",
    "f_1 = DiscreteFactor(['s1','e1'], [11,1], f[0])\n",
    "f_2 = DiscreteFactor(['s2','e2'], [11,1], f[1])\n",
    "f_3 = DiscreteFactor(['s3','e3'], [11,1], f[2])\n",
    "f_4 = DiscreteFactor(['s4','e4'], [11,1], f[3])\n",
    "f_5 = DiscreteFactor(['s5','e5'], [11,1], f[4])\n",
    "f_6 = DiscreteFactor(['s6','e6'], [11,1], f[5])\n",
    "f_7 = DiscreteFactor(['s7','e7'], [11,1], f[6])\n",
    "f_8 = DiscreteFactor(['s8','e8'], [11,1], f[7])\n",
    "f_9 = DiscreteFactor(['s9','e9'], [11,1], f[8])\n",
    "\n",
    "r = DiscreteFactor(['s5','e3','e4','e5'], [11,1,1,1], r_factor_function)\n",
    "c = DiscreteFactor(['s6','e1','e3','e6'], [11,1,1,1], c_factor_function) \n",
    "\n",
    "\n",
    "\n"
   ]
  },
  {
   "cell_type": "code",
   "execution_count": 14,
   "metadata": {
    "collapsed": true
   },
   "outputs": [],
   "source": [
    "marginal = 9*[0]\n",
    "\n",
    "    #First let's analyze all independent nodes:\n",
    "independent_nodes = [2, 7, 8, 9]\n",
    "\n",
    "def ind_add(x):\n",
    "    for node in independent_nodes:\n",
    "        G = FactorGraph()\n",
    "        G.add_nodes_from(['s'+str(node), 'e'+str(node)])\n",
    "        factor_function = DiscreteFactor(['s'+str(node), 'e'+str(node)], [11,1], f[node - 1])\n",
    "        G.add_factors(factor_function)\n",
    "        G.add_edges_from([('s'+str(node), factor_function), ('e'+str(node), factor_function)])\n",
    "        if x==1:\n",
    "            marginal[node - 1] =  BeliefPropagation(G).query(variables = ['s'+str(node)], show_progress = False)\n",
    "        if x==0:    \n",
    "            marginal_without_7[node - 1] =  BeliefPropagation(G).query(variables = ['s'+str(node)], show_progress = False)\n",
    "\n",
    "ind_add(1)\n",
    "\n",
    "G = FactorGraph()\n",
    "dependent_nodes = [1,3,4,5,6]\n",
    "\n",
    "def dep_add():\n",
    "    G.add_nodes_from(['s'+str(i) for i in dependent_nodes] + ['e'+str(i) for i in dependent_nodes])  ## Add random variables \n",
    "    G.add_factors(f_1,f_3,f_4,f_5,f_6,r,c)\n",
    "    G.add_edges_from([('s1',f_1), ('e1', f_1), ('s3',f_3), ('e3', f_3), ('s4',f_4), ('e4', f_4),('s5',f_5), ('e5', f_5), ('s6',f_6), ('e6', f_6),('s5',r), ('e3', r), ('e4', r), ('e5', r),\n",
    "                      ('s6',c), ('e1', c), ('e3', c), ('e6', c)])\n",
    "dep_add()\n",
    "bp = BeliefPropagation(G)\n",
    "for node in dependent_nodes:\n",
    "    marginal[node - 1] = bp.query(variables = ['s'+str(node)], show_progress = False)"
   ]
  },
  {
   "cell_type": "markdown",
   "metadata": {},
   "source": [
    "### Task 3.4"
   ]
  },
  {
   "cell_type": "markdown",
   "metadata": {},
   "source": [
    "#### a. At every time point, provide the marginal probability of each state (Since we have 9 time points and 11 possible states, you should provide 99 probability values here)"
   ]
  },
  {
   "cell_type": "code",
   "execution_count": 15,
   "metadata": {
    "scrolled": false
   },
   "outputs": [
    {
     "name": "stdout",
     "output_type": "stream",
     "text": [
      "+--------+-----------+\n",
      "| s1     |   phi(s1) |\n",
      "+========+===========+\n",
      "| s1(0)  |    0.9360 |\n",
      "+--------+-----------+\n",
      "| s1(1)  |    0.0640 |\n",
      "+--------+-----------+\n",
      "| s1(2)  |    0.0000 |\n",
      "+--------+-----------+\n",
      "| s1(3)  |    0.0000 |\n",
      "+--------+-----------+\n",
      "| s1(4)  |    0.0000 |\n",
      "+--------+-----------+\n",
      "| s1(5)  |    0.0000 |\n",
      "+--------+-----------+\n",
      "| s1(6)  |    0.0000 |\n",
      "+--------+-----------+\n",
      "| s1(7)  |    0.0000 |\n",
      "+--------+-----------+\n",
      "| s1(8)  |    0.0000 |\n",
      "+--------+-----------+\n",
      "| s1(9)  |    0.0000 |\n",
      "+--------+-----------+\n",
      "| s1(10) |    0.0000 |\n",
      "+--------+-----------+\n"
     ]
    }
   ],
   "source": [
    "marginal[0].normalize()\n",
    "print(marginal[0])\n"
   ]
  },
  {
   "cell_type": "markdown",
   "metadata": {},
   "source": [
    "#### b. At every time point, provide the most probable state"
   ]
  },
  {
   "cell_type": "code",
   "execution_count": 16,
   "metadata": {},
   "outputs": [
    {
     "name": "stdout",
     "output_type": "stream",
     "text": [
      "t= 1: benign\n",
      "t = 2: benign\n",
      "t = 3: benign\n",
      "t = 4: benign\n",
      "t = 5: privilege escalation\n",
      "t = 6: persistence\n",
      "t  7: exfiltration\n",
      "t = 8: exfiltration\n",
      "t = 9: exfiltration\n"
     ]
    }
   ],
   "source": [
    "# The most probable states at each time point are:\n",
    "\n",
    "print(\"t= 1: benign\")\n",
    "\n",
    "print (\"t = 2: benign\")\n",
    "\n",
    "print (\"t = 3: benign\")\n",
    "\n",
    "print (\"t = 4: benign\")\n",
    "\n",
    "print (\"t = 5: privilege escalation\")\n",
    "\n",
    "print (\"t = 6: persistence\")\n",
    "\n",
    "print (\"t  7: exfiltration\")\n",
    "\n",
    "print (\"t = 8: exfiltration\")\n",
    "\n",
    "print (\"t = 9: exfiltration\")"
   ]
  },
  {
   "cell_type": "markdown",
   "metadata": {},
   "source": [
    "### Task 3.5"
   ]
  },
  {
   "cell_type": "code",
   "execution_count": 17,
   "metadata": {},
   "outputs": [
    {
     "name": "stdout",
     "output_type": "stream",
     "text": [
      "['NO-OP', 'NO-OP', 'NO-OP', 'NO-OP', 'MONITOR', 'MONITOR', 'STOP', 'STOP', 'STOP']\n"
     ]
    }
   ],
   "source": [
    "ACTIONS = {\n",
    "    # each value in an actions' vector corresponds to an attack stage\n",
    "    'NO-OP':   [1.,   0.61, 0.69, 0.09, 0.2 , 0. ,  0.,   0.,   0. ,  0. ,  0.  ],\n",
    "    'MONITOR': [0.  , 0.39, 0.31 ,0.84, 0.63, 0.7,  0.07 ,0.1 , 0. ,  0. ,  0.  ],\n",
    "    'STOP':    [0.  , 0.,   0.  , 0.07, 0.17, 0.3,  0.93 ,0.9 , 1. ,  1. ,  1.  ]\n",
    "}\n",
    "\n",
    "hidden_states = ['benign', 'benign', 'benign', 'benign', 'privilege_escalation', 'persistence','exfiltration', 'exfiltration', 'exfiltration']\n",
    "hidden_states_mapped = [ATTACK_STATES_MAP[state] for state in hidden_states]\n",
    "    \n",
    "\n",
    "actions = []\n",
    "def actn():\n",
    "    temp = np.argmax(np.array(list(ACTIONS.values())), axis = 0)\n",
    "    for i in hidden_states_mapped:\n",
    "        actions.append(list(ACTIONS.keys())[temp[i-1]])\n",
    "    print(actions)\n",
    "actn()    "
   ]
  },
  {
   "cell_type": "markdown",
   "metadata": {},
   "source": [
    "### Task 3.6"
   ]
  },
  {
   "cell_type": "markdown",
   "metadata": {},
   "source": [
    "#### Indicate the earliest stage in which your model should recommend stopping the attack"
   ]
  },
  {
   "cell_type": "markdown",
   "metadata": {},
   "source": [
    "'STOP' is recommended in S7"
   ]
  },
  {
   "cell_type": "markdown",
   "metadata": {},
   "source": [
    "### Task 3.7"
   ]
  },
  {
   "cell_type": "markdown",
   "metadata": {},
   "source": [
    "#### a. Judge whether the most probable states for $s_1-s_6,s_8,s_9$ remain the same as Task3.2\n"
   ]
  },
  {
   "cell_type": "code",
   "execution_count": 18,
   "metadata": {
    "collapsed": true
   },
   "outputs": [],
   "source": [
    "f_1 = DiscreteFactor(['s1','e1'], [11,1], f[0])\n",
    "f_2 = DiscreteFactor(['s2','e2'], [11,1], f[1])\n",
    "f_3 = DiscreteFactor(['s3','e3'], [11,1], f[2])\n",
    "f_4 = DiscreteFactor(['s4','e4'], [11,1], f[3])\n",
    "f_5 = DiscreteFactor(['s5','e5'], [11,1], f[4])\n",
    "f_6 = DiscreteFactor(['s6','e6'], [11,1], f[5])\n",
    "f_8 = DiscreteFactor(['s8','e8'], [11,1], f[7])\n",
    "f_9 = DiscreteFactor(['s9','e9'], [11,1], f[8])\n",
    "\n",
    "r = DiscreteFactor(['s5','e3','e4','e5'], [11,1,1,1], r_factor_function)\n",
    "c = DiscreteFactor(['s6','e1','e3','e6'], [11,1,1,1], c_factor_function) \n",
    "\n",
    "\n"
   ]
  },
  {
   "cell_type": "code",
   "execution_count": 19,
   "metadata": {},
   "outputs": [
    {
     "name": "stdout",
     "output_type": "stream",
     "text": [
      "True\n",
      "True\n",
      "False\n",
      "False\n",
      "False\n",
      "False\n",
      "False\n",
      "True\n",
      "True\n"
     ]
    }
   ],
   "source": [
    "marginal_without_7 = 9*[0]\n",
    "\n",
    "independent_nodes = [2, 8, 9]\n",
    "\n",
    "\n",
    "ind_add(0)\n",
    "    \n",
    "\n",
    "G = FactorGraph()\n",
    "dependent_nodes = [1,3,4,5,6]\n",
    "\n",
    "\n",
    "dep_add()\n",
    "\n",
    "bp = BeliefPropagation(G)\n",
    "for node in dependent_nodes:\n",
    "    marginal_without_7[node - 1] = bp.query(variables = ['s'+str(node)], show_progress = False)\n",
    "\n",
    "for i in range(9):\n",
    "    try:\n",
    "        marginal_without_7[i].normalize()\n",
    "    except AttributeError:\n",
    "        pass\n",
    "    print(marginal_without_7[i] == marginal[i])"
   ]
  },
  {
   "cell_type": "markdown",
   "metadata": {},
   "source": [
    "Marginals remain same except S7 which has been removed."
   ]
  },
  {
   "cell_type": "markdown",
   "metadata": {},
   "source": [
    "#### b. State the reason for your judgement"
   ]
  },
  {
   "cell_type": "markdown",
   "metadata": {},
   "source": [
    "\n",
    "\n",
    "S7 and E7 are independent of other nodes. So the value of S7 does not affect the rest of the graph."
   ]
  },
  {
   "cell_type": "markdown",
   "metadata": {},
   "source": [
    "### Task 3.8"
   ]
  },
  {
   "cell_type": "markdown",
   "metadata": {},
   "source": [
    "#### a. Draw an HMM model for the attack scenario given the provided states and events.\n",
    "\n",
    "<img src=\"files/task_3.8.jpeg\">\n",
    "\n",
    "\n",
    "#### b. What parameters are needed for this HMM model to work?\n",
    "\n",
    "Observation matrix, State transition matrix and priors.\n",
    "\n",
    "\n",
    "#### c. Give an example of an advantage of the FG over the HMM model.\n",
    "\n",
    "The HMMM model works on the assumption of Markov property whereas the factor graph is not restricted by any such assumption. It is a straightforward approach where it is easier to consider multiple relationships between nodes (using r and c) "
   ]
  },
  {
   "cell_type": "markdown",
   "metadata": {},
   "source": [
    " "
   ]
  },
  {
   "cell_type": "markdown",
   "metadata": {},
   "source": [
    "# Task 4"
   ]
  },
  {
   "cell_type": "markdown",
   "metadata": {},
   "source": [
    "### Task 4.0\n",
    "#### Is it possible to 100% detect this attack using only one event, e.g., ϵ1, of the six listed events? Briefly explain.\n",
    "No. Since there are 6 listed events associated with the attack term \"benign\", in any possible scenario we cannot just frame our assumptions based on just one event as each event has a probability associated with it."
   ]
  },
  {
   "cell_type": "markdown",
   "metadata": {},
   "source": [
    "### Task 4.1\n",
    "#### For each of the six listed events, give an example of a situation in which a false positive (i.e., mis-detecting a legitimate user as an attacker) could happen.\n",
    "Scan: System admin is doing a scan.\n",
    "\n",
    "Login: False positive not possible because it maps to just to one state=benign.\n",
    "\n",
    "Sensitive URI: There is a possibility that a false positive can be generated in this case as the user can access the executable URI. That's beacuse each sensitive URI points to an executable which does not necessarily indicate coming from the server related to the attacker. \n",
    "\n",
    "New Exe File: There is a possibility that a false positive can be generated in this case as the user can access the exe file. That's because each exe file points to an executable which does not necessarily indicate coming from the server related to the attacker.\n",
    "\n",
    "Homepage Overwritten with new link: User has the authority to override the homepage with a new link. So we cannot always indicate that the file is through the attackers server. \n",
    "\n",
    "Webserver Restarted: User has the authority to override the webserver. So we cannot always indicate that the file is through the attackers server."
   ]
  },
  {
   "cell_type": "markdown",
   "metadata": {},
   "source": [
    "### Task 4.2\n",
    "#### Provide a visual representation of a factor graph that can model the attack described above.\n",
    "<img src=\"files/task_4.2.jpeg\">"
   ]
  },
  {
   "cell_type": "markdown",
   "metadata": {},
   "source": [
    "### Task 4.3\n",
    "#### What variables and factor functions are common to the factor graph in Task 3 and your factor graph in 4.2?\n",
    "\n",
    "\n",
    "Events that are common in both the cases and mapping to the same states are:\n",
    "i) Login-> {benign}\n",
    "ii) Scan-> {benign, discovery}\n",
    "iii) Sensitive URI-> {benign, privilege escalation}\n",
    "\n",
    "\n",
    "\n"
   ]
  }
 ],
 "metadata": {
  "kernelspec": {
   "display_name": "Python 3",
   "language": "python",
   "name": "python3"
  },
  "language_info": {
   "codemirror_mode": {
    "name": "ipython",
    "version": 3
   },
   "file_extension": ".py",
   "mimetype": "text/x-python",
   "name": "python",
   "nbconvert_exporter": "python",
   "pygments_lexer": "ipython3",
   "version": "3.6.6"
  }
 },
 "nbformat": 4,
 "nbformat_minor": 4
}
